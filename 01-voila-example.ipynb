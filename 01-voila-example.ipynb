{
 "cells": [
  {
   "cell_type": "code",
   "execution_count": null,
   "metadata": {},
   "outputs": [],
   "source": [
    "import pandas as pd\n",
    "import altair as alt\n",
    "\n",
    "%matplotlib inline\n",
    "\n",
    "# produce vector inline graphics\n",
    "from IPython.display import set_matplotlib_formats, display, Markdown, HTML\n",
    "\n",
    "from sklearn.feature_extraction.text import CountVectorizer, TfidfVectorizer\n",
    "from sklearn.decomposition import NMF\n",
    "\n",
    "set_matplotlib_formats('pdf', 'svg')\n",
    "\n",
    "import matplotlib.pyplot as plt\n",
    "plt.rcParams['figure.figsize'] = [10, 4]\n",
    "display(HTML(\"<style>.container { width:70% !important; }</style>\"))"
   ]
  },
  {
   "cell_type": "markdown",
   "metadata": {},
   "source": [
    "# From notebooks to apps with [Voilà](https://github.com/voila-dashboards/voila)"
   ]
  },
  {
   "cell_type": "markdown",
   "metadata": {},
   "source": [
    "Today we'll be demoing [Voilà](https://github.com/voila-dashboards/voila), a library that turns Jupyter notebooks into standalone web applications. \n",
    "\n",
    "\n",
    "**Benefits of Voilà**\n",
    "* By default, Voilà disallows execute requests from the front-end, preventing execution of arbitrary code.\n",
    "* By default, Voilà runs with the strip_source option, which strips out the input cells from the rendered notebook."
   ]
  },
  {
   "cell_type": "markdown",
   "metadata": {},
   "source": [
    "## Why use Voilà? Let's consider some alternatives.\n",
    "\n",
    "### Presenting a notebook on GitHub/GitLab/etc: no interactivity\n",
    "* Ideal for collaboration with other data scientists, but we're talking about presenting results here\n",
    "* Alright for sharing a quick, informal report, but that's about it. \n",
    "* **Use this when:**\n",
    "    * A collaborator wants to glance over results quickly, as Binder/Streamlit/Voila take longer to start up.\n",
    "        \n",
    "### Sharing a notebook with Binder: *too much* interactivity\n",
    "* Runs as a standard Jupyter notebook, so it's easy to play with code\n",
    "* This can be intrusive or intimidating if you want to prototype a tool for a non-data scientist\n",
    "* User can modify code... so they can break stuff!\n",
    "* **Use this when:**\n",
    "    * You want to link to an interactive example for using some software library\n",
    "    * You're giving a demo like this one! \n",
    "    \n",
    "### Creating a dashboard with Streamlit: *some* overhead\n",
    "* More flexible and powerful than Jupyter and Voila\n",
    "* Streamlit development workflow is disconnected from Jupyter workflow\n",
    "* **Use this when:** \n",
    "    * you need to build a more powerful dashboard, but don't want/need to build a full web app.\n",
    "\n",
    "### Creating a web application with Flask: lots of overhead\n",
    "* **Use this when:** \n",
    "    * You project has specific, sophisiticated requirements, and the other tools won't cut it.\n",
    "    * You want to prototype how you can embed ML in an existing app.\n",
    "\n"
   ]
  },
  {
   "cell_type": "markdown",
   "metadata": {},
   "source": [
    "## Case study: Email clicks"
   ]
  },
  {
   "cell_type": "markdown",
   "metadata": {},
   "source": [
    "### The problem / the user\n",
    "\n",
    "We want to make an interactive report/dashboard for advertisement click-through rates on our website. This could just as easily be modified for something like email click rates, but that's the data we have.\n",
    "\n",
    "We're planning on sending this to our marketing team, who have little to no experience writing code in Python or working with Jupyter notebooks. We don't want to make them install Jupyter, Conda, etc, and we don't want them to navigate big blocks of code. They just need info and visualizations. \n",
    "\n",
    "In the future, maybe we will want to build a more full-featured app using something like Streamlit, or start from scratch with Flask. For now, though, we want proof-of-concept and we want to iron out the project requirements. This means avoiding additional time spent on developing a web app, etc.\n",
    "\n",
    "Our marketing team wants to know the following: **Who are our users? Which users are clicking on ads? Who would we be targeting?**\n",
    "\n",
    "Our approach with be in providing some interactive visualizations and carrying out some rudimentary clustering. "
   ]
  },
  {
   "cell_type": "markdown",
   "metadata": {},
   "source": [
    "### Data\n",
    "We'll be using an [example dataset](https://raw.githubusercontent.com/shubham13p/Ad-Click-Prediction/master/advertising.csv) found on GitHub. We'll use Pandas to load in this data and display the first few rows."
   ]
  },
  {
   "cell_type": "code",
   "execution_count": null,
   "metadata": {},
   "outputs": [],
   "source": [
    "df = pd.read_csv('https://raw.githubusercontent.com/shubham13p/Ad-Click-Prediction/master/advertising.csv')\n",
    "df['Click_labeled'] = df['Clicked on Ad'].apply(lambda x: \"Click\" if x == 1 else \"No Click\")\n",
    "df.head()"
   ]
  },
  {
   "cell_type": "markdown",
   "metadata": {},
   "source": [
    "## Density plots\n",
    "\n",
    "Let's just take a look at the *density plots* of a few of these columns. These are like histograms, but smoothed. \n",
    "\n",
    "This gives us a quick view on distributions within our data. We see the following:\n",
    "\n",
    "* Most users seem to be around 30 years old, but we have a pretty broad distribution overall .\n",
    "* We see two \"peaks\" (or modes) in the daily usage features. This might mean we have two meaningful and distinct usage patterns.\n",
    "* We'll be interested in age and usage as we continue our investigation of click rates."
   ]
  },
  {
   "cell_type": "code",
   "execution_count": null,
   "metadata": {},
   "outputs": [],
   "source": [
    "cols = ['Age', 'Area Income', 'Daily Internet Usage', 'Daily Time Spent on Site']\n",
    "\n",
    "fig, axs = plt.subplots(2, 2)\n",
    "for ix, col in enumerate(cols):\n",
    "    row = ix // 2\n",
    "    column =  ix % 2\n",
    "    \n",
    "    plt.tight_layout()\n",
    "    \n",
    "    ax = axs[row][column]\n",
    "    \n",
    "    \n",
    "    df[[col]].plot.kde(title=col, \n",
    "                       legend=False, \n",
    "                       color='black',\n",
    "                       ax = ax,\n",
    "                       linewidth=1)\n",
    "    \n",
    "    ax.set_xlim(df[col].min(), df[col].max())\n",
    "    ax.set_ylim(0)\n",
    "    \n",
    "    # Get the two lines from the axes to generate shading\n",
    "    l1 = ax.lines[0]\n",
    "\n",
    "    # Get the xy data from the lines so that we can shade\n",
    "    x1 = l1.get_xydata()[:,0]\n",
    "    y1 = l1.get_xydata()[:,1]\n",
    "    ax.fill_between(x1,y1, color=\"blue\", alpha=0.1)"
   ]
  },
  {
   "cell_type": "markdown",
   "metadata": {},
   "source": [
    "## Interactive plots with Altair\n",
    "\n",
    "\n",
    "For more compelling and illuminating charts, we want to bring in some interactivity. \n",
    "\n",
    "For this, we'll use a package called [Altair](https://altair-viz.github.io/gallery/). There is no \"best\" visualization library, just different tools for different jobs. Here's a brief rundown of why I sometimes use Altair.\n",
    "\n",
    "**Advantages of Altair**\n",
    "* Quickly produce interactive, linked visualizations within Jupyter notebooks\n",
    "* Easily transfer these visualizations to other web apps or contexts\n",
    "* Interactivity runs client-side with JavaScript, so it works even on a static page (like in GitHub Pages)\n",
    "\n",
    "**Disadvantages of Altair**\n",
    "* Not very powerful or flexible as compared to things like Bokeh, Plotly, or D3\n",
    "* Not as well-documented or developed as things like Matplotlib"
   ]
  },
  {
   "cell_type": "markdown",
   "metadata": {},
   "source": [
    "### Temporal effects"
   ]
  },
  {
   "cell_type": "code",
   "execution_count": null,
   "metadata": {},
   "outputs": [],
   "source": [
    "bars = (alt.Chart(df, width=800, title='Click rate by month').mark_bar(width=100)\n",
    " .encode(\n",
    "     alt.X('month(Timestamp):O', title=''),\n",
    "     y=alt.Y('mean(Clicked on Ad):Q', title='', axis=alt.Axis(labels=False))\n",
    " ))\n",
    "text = bars.mark_text(\n",
    "    align='center',\n",
    "    baseline='middle',\n",
    "    dy=20,\n",
    "    color='white',\n",
    "    size=20\n",
    ").encode(\n",
    "    text=alt.Text('mean(Clicked on Ad):O', format=('.2f'))\n",
    ")\n",
    "\n",
    "(bars + text).configure_axis(labelAngle=0, labelFontSize=20).configure_title(fontSize=20)"
   ]
  },
  {
   "cell_type": "markdown",
   "metadata": {},
   "source": [
    "## Age, time on site, click rate\n",
    "\n",
    "Here, we're going to use a linked, interactive pair of charts to investigate how these three variables interact.\n",
    "\n",
    "### What do we mean by \"linked?\"\n",
    "* We can make a selection in each chart (try clicking and dragging).\n",
    "* Notice how the selection in one chart modifies the data shown in the other.\n",
    "* This is because both charts share a *view* on our underlying data.\n",
    "\n",
    "### Why is this helpful?\n",
    "* We want to communicate a multi-dimensional relationship here: there are distinct usage patterns by age, and we see that age and \"time on site\" both influence click rate. How is age tied to \"time on site\", though? An interactive chart makes it easy for the users to *find this out themselves*."
   ]
  },
  {
   "cell_type": "code",
   "execution_count": null,
   "metadata": {},
   "outputs": [],
   "source": [
    "brush = alt.selection_interval(encodings=['x'], empty='all')\n",
    "brush2 = alt.selection_interval(encodings=['x'], empty='all')\n",
    "\n",
    "domain = ['No Click', 'Click']\n",
    "range_ = ['lightgray', 'orange']\n",
    "\n",
    "bars1 = alt.Chart(df).mark_bar().encode(\n",
    "    x=alt.X('Daily Time Spent on Site:Q', bin=True),\n",
    "    color='Click_labeled:N',\n",
    "    y='count(Click_labeled):N'\n",
    ").add_selection(\n",
    "    brush\n",
    ").transform_filter(\n",
    "    brush2\n",
    ").properties(\n",
    "    title='Less time = More Clicks'\n",
    ")\n",
    "\n",
    "bars = alt.Chart(df).mark_bar().encode(\n",
    "    x=alt.X('Age:Q', scale=alt.Scale(domain=(10, 65))),\n",
    "    color=alt.Color('Click_labeled:N', scale=alt.Scale(domain=domain, range=range_)),\n",
    "    y=alt.Y('count(Click_labeled):N', scale=alt.Scale(domain=(0, 62))),\n",
    ").transform_filter(\n",
    "    brush\n",
    ").add_selection(\n",
    "    brush2\n",
    ").properties(\n",
    "    title='Older = higher click rate'\n",
    ")\n",
    "\n",
    "(bars | bars1).configure_title(\n",
    "    fontSize=20,\n",
    "    anchor='start')"
   ]
  },
  {
   "cell_type": "markdown",
   "metadata": {},
   "source": [
    "### Another view on Age vs time on site\n",
    "\n",
    "* Here, we make a stacked histogram of age and time on site. This communicates only *some* of the information in the charts above. Notably, we no longer tie this information to the click rate, which is the quantity we actually care about. \n",
    "* What do we conclude from this chart? What do these results actually **mean** with regards to the click rate? \n",
    "* We can somewhat observe that the younger groups increase at/around 70 minutes, but not as clearly as in the charts above."
   ]
  },
  {
   "cell_type": "code",
   "execution_count": null,
   "metadata": {},
   "outputs": [],
   "source": [
    "bars = (alt.Chart(df).mark_bar()\n",
    " .encode(\n",
    "     x=alt.X('Daily Time Spent on Site', bin=alt.Bin(maxbins=14)),\n",
    "     y=alt.Y('count(Daily Time Spent on Site)', title=''),\n",
    "     color=alt.Color('Age', \n",
    "                     scale=alt.Scale(scheme='viridis', reverse=True),\n",
    "                     bin=alt.Bin(maxbins=10)))\n",
    " \n",
    " .properties(title='Over 70 minutes on site = younger users')\n",
    ")\n",
    "\n",
    "\n",
    "bars.configure_title(fontSize=20)"
   ]
  },
  {
   "cell_type": "markdown",
   "metadata": {},
   "source": [
    "### Month and age"
   ]
  },
  {
   "cell_type": "code",
   "execution_count": null,
   "metadata": {
    "scrolled": true
   },
   "outputs": [],
   "source": [
    "(alt.Chart(df, width=800, title='Age vs Month, Counts').mark_bar(width=100)\n",
    " .encode(\n",
    "     alt.X('month(Timestamp):O', title=''),\n",
    "     y=alt.Y('count(Clicked on Ad):Q', title='', axis=alt.Axis(labels=False)),\n",
    "     color=alt.Color('Age', \n",
    "                         scale=alt.Scale(scheme='viridis', reverse=True),\n",
    "                         bin=alt.Bin(maxbins=10))\n",
    " ).configure_axis(labelAngle=0, labelFontSize=20)).configure_title(fontSize=20)\n",
    "\n"
   ]
  },
  {
   "cell_type": "markdown",
   "metadata": {},
   "source": [
    "## Topic Modeling\n",
    "\n",
    "Here, we will try to get relevant topics from the ad text.\n",
    "\n",
    "We'll use [Non-negative Matrix Factorization (NMF)](https://scikit-learn.org/stable/modules/generated/sklearn.decomposition.NMF.html) to split the ad text into 3 topics.\n",
    "\n"
   ]
  },
  {
   "cell_type": "code",
   "execution_count": null,
   "metadata": {},
   "outputs": [],
   "source": [
    "tfidf_vect = TfidfVectorizer(max_df=0.9, min_df=10, stop_words='english')\n",
    "doc_term_matrix = tfidf_vect.fit_transform(df['Ad Topic Line'].values.astype('U'))"
   ]
  },
  {
   "cell_type": "code",
   "execution_count": null,
   "metadata": {},
   "outputs": [],
   "source": [
    "nmf = NMF(n_components=3, random_state=42)\n",
    "nmf.fit(doc_term_matrix )\n",
    "\n",
    "topic_values = nmf.transform(doc_term_matrix)\n",
    "df['Topic'] = topic_values.argmax(axis=1)"
   ]
  },
  {
   "cell_type": "code",
   "execution_count": null,
   "metadata": {},
   "outputs": [],
   "source": [
    "nmf_components = nmf.components_\n",
    "feature_names = tfidf_vect.get_feature_names()\n",
    "\n",
    "divs = []\n",
    "\n",
    "for i,topic in enumerate(nmf.components_):\n",
    "    \n",
    "\n",
    "    num_ads = len(df[df['Topic']==i])\n",
    "    top_5 = [feature_names[i] for i in topic.argsort()[-5:]]  \n",
    "    top = ''.join([f'* {word} \\n' for word in  top_5])\n",
    "\n",
    "    markdown = f'''<div style=\"width: 33%; float: left;\"> \n",
    "    \n",
    "### Topic #{i+1}\n",
    "\n",
    "**Number of Ads in Topic:** {num_ads}\n",
    "\n",
    "{top}\n",
    "\n",
    "</div>\n",
    "''' \n",
    "    \n",
    "    divs.append(markdown)\n",
    "    \n",
    "display(Markdown(''.join(divs)))"
   ]
  },
  {
   "cell_type": "markdown",
   "metadata": {},
   "source": [
    "### Topics and click rate"
   ]
  },
  {
   "cell_type": "code",
   "execution_count": null,
   "metadata": {
    "scrolled": true
   },
   "outputs": [],
   "source": [
    "base = (alt.Chart(df, width=400).mark_bar()\n",
    " .encode(\n",
    "     x=alt.X('Topic:N', axis=alt.Axis(labelAngle=0,\n",
    "                                        labelFontSize=16,\n",
    "                                        titleFontSize=20,\n",
    "                                        labelColor='gray',\n",
    "                                        titleColor='gray')),\n",
    "     y=alt.Y('mean(Clicked on Ad)', axis=alt.Axis(labels=False, title='')))\n",
    " \n",
    " .properties(title='No clear difference between topics and click rates'))\n",
    "\n",
    "\n",
    "bars = base.encode(color=alt.Color('Topic:N', \n",
    "                         scale=alt.Scale(scheme='viridis', reverse=True)))\n",
    "\n",
    "text = base.mark_text(\n",
    "    align='center',\n",
    "    baseline='middle',\n",
    "    dy=20,\n",
    "    color='white',\n",
    "    size=24\n",
    ").encode(\n",
    "    text=alt.Text('mean(Clicked on Ad):O', format=('.2f'))\n",
    ")\n",
    "\n",
    "topic_age = (alt.Chart(df[df['Clicked on Ad']==True], width=400).mark_bar()\n",
    " .encode(\n",
    "     x=alt.X('Age:Q', bin=True, axis=alt.Axis(labelAngle=0,\n",
    "                                        labelFontSize=16,\n",
    "                                        titleFontSize=20,\n",
    "                                        labelColor='gray',\n",
    "                                        titleColor='gray')),\n",
    "     y=alt.Y('count()', axis=alt.Axis(labels=False, title='')),\n",
    "     color=alt.Color('Topic:N', \n",
    "                         scale=alt.Scale(scheme='viridis', reverse=True)))\n",
    " \n",
    " .properties(title='Count of Ad Clicks by Topic and Age'))\n",
    "\n",
    "\n",
    "\n",
    "((bars + text ) | topic_age).configure_title(fontSize=20)"
   ]
  },
  {
   "cell_type": "code",
   "execution_count": null,
   "metadata": {},
   "outputs": [],
   "source": []
  }
 ],
 "metadata": {
  "kernelspec": {
   "display_name": "Python 3",
   "language": "python",
   "name": "python3"
  },
  "language_info": {
   "codemirror_mode": {
    "name": "ipython",
    "version": 3
   },
   "file_extension": ".py",
   "mimetype": "text/x-python",
   "name": "python",
   "nbconvert_exporter": "python",
   "pygments_lexer": "ipython3",
   "version": "3.8.6"
  }
 },
 "nbformat": 4,
 "nbformat_minor": 4
}
