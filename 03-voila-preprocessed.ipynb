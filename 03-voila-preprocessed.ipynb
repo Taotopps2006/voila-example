{
 "cells": [
  {
   "cell_type": "code",
   "execution_count": null,
   "metadata": {},
   "outputs": [],
   "source": [
    "import pandas as pd\n",
    "import altair as alt\n",
    "\n",
    "import numpy as np"
   ]
  },
  {
   "cell_type": "code",
   "execution_count": null,
   "metadata": {},
   "outputs": [],
   "source": [
    "%matplotlib inline\n",
    "\n",
    "# produce vector inline graphics\n",
    "from IPython.display import set_matplotlib_formats, display, Markdown, HTML\n",
    "\n",
    "set_matplotlib_formats('pdf', 'svg')\n",
    "\n",
    "import matplotlib.pyplot as plt\n",
    "plt.rcParams['figure.figsize'] = [10, 4]\n"
   ]
  },
  {
   "cell_type": "markdown",
   "metadata": {},
   "source": [
    "# Ad Click Dashboard"
   ]
  },
  {
   "cell_type": "code",
   "execution_count": null,
   "metadata": {},
   "outputs": [],
   "source": [
    "# IMPORT DATA\n",
    "\n",
    "df = pd.read_csv('data/df.csv')\n",
    "\n",
    "nmf_components = np.load('data/nmf-components.npy')\n",
    "\n",
    "with open('data/feature-names.txt', 'r') as f:\n",
    "    feature_names = [line.strip() for line in f.readlines()]\n",
    "    "
   ]
  },
  {
   "cell_type": "markdown",
   "metadata": {},
   "source": [
    "### Temporal effects"
   ]
  },
  {
   "cell_type": "code",
   "execution_count": null,
   "metadata": {},
   "outputs": [],
   "source": [
    "bars = (alt.Chart(df, width=800, title='Click rate by month').mark_bar(width=100)\n",
    " .encode(\n",
    "     alt.X('month(Timestamp):O', title=''),\n",
    "     y=alt.Y('mean(Clicked on Ad):Q', title='', axis=alt.Axis(labels=False))\n",
    " ))\n",
    "text = bars.mark_text(\n",
    "    align='center',\n",
    "    baseline='middle',\n",
    "    dy=20,\n",
    "    color='white',\n",
    "    size=20\n",
    ").encode(\n",
    "    text=alt.Text('mean(Clicked on Ad):O', format=('.2f'))\n",
    ")\n",
    "\n",
    "(bars + text).configure_axis(labelAngle=0, labelFontSize=20).configure_title(fontSize=20)"
   ]
  },
  {
   "cell_type": "markdown",
   "metadata": {},
   "source": [
    "## Age, time on site, click rate\n"
   ]
  },
  {
   "cell_type": "code",
   "execution_count": null,
   "metadata": {
    "scrolled": true
   },
   "outputs": [],
   "source": [
    "brush = alt.selection_interval(encodings=['x'], empty='all')\n",
    "brush2 = alt.selection_interval(encodings=['x'], empty='all')\n",
    "\n",
    "domain = ['No Click', 'Click']\n",
    "range_ = ['lightgray', 'orange']\n",
    "\n",
    "bars1 = alt.Chart(df, width=400).mark_bar().encode(\n",
    "    x=alt.X('Daily Time Spent on Site:Q', bin=True),\n",
    "    color='Click_labeled:N',\n",
    "    y='count(Click_labeled):N'\n",
    ").add_selection(\n",
    "    brush\n",
    ").transform_filter(\n",
    "    brush2\n",
    ").properties(\n",
    "    title='Less time = More Clicks'\n",
    ")\n",
    "\n",
    "bars = alt.Chart(df, width=400).mark_bar().encode(\n",
    "    x=alt.X('Age:Q', scale=alt.Scale(domain=(10, 65))),\n",
    "    color=alt.Color('Click_labeled:N', scale=alt.Scale(domain=domain, range=range_)),\n",
    "    y=alt.Y('count(Click_labeled):N', scale=alt.Scale(domain=(0, 62))),\n",
    ").transform_filter(\n",
    "    brush\n",
    ").add_selection(\n",
    "    brush2\n",
    ").properties(\n",
    "    title='Older = higher click rate'\n",
    ")\n",
    "\n",
    "(bars | bars1).configure_title(\n",
    "    fontSize=20,\n",
    "    anchor='start'\n",
    ")"
   ]
  },
  {
   "cell_type": "markdown",
   "metadata": {},
   "source": [
    "**Key takeaways:**\n",
    "* Most users are around 30 years old, but older users have the highest click rate.\n",
    "* Users who spend over 60 minutes on the site have a sharp decrease in click rate.\n",
    "* Users who spend over 70 minutes on the site are much more likely to be young."
   ]
  },
  {
   "cell_type": "markdown",
   "metadata": {},
   "source": [
    "### Another view on Age vs time on site\n"
   ]
  },
  {
   "cell_type": "code",
   "execution_count": null,
   "metadata": {},
   "outputs": [],
   "source": [
    "bars = (alt.Chart(df, width=800).mark_bar()\n",
    " .encode(\n",
    "     x=alt.X('Daily Time Spent on Site', bin=alt.Bin(maxbins=14),\n",
    "             axis=alt.Axis(labelAngle=0,\n",
    "                                        labelFontSize=16,\n",
    "                                        titleFontSize=20,\n",
    "                                        labelColor='gray',\n",
    "                                        titleColor='gray')),\n",
    "     y=alt.Y('count(Daily Time Spent on Site)', title=''),\n",
    "     color=alt.Color('Age', \n",
    "                     scale=alt.Scale(scheme='viridis', reverse=True),\n",
    "                     bin=alt.Bin(maxbins=10)))\n",
    " \n",
    " .properties(title='Over 70 minutes on site = younger users')\n",
    ")\n",
    "\n",
    "\n",
    "bars.configure_title(fontSize=20)"
   ]
  },
  {
   "cell_type": "markdown",
   "metadata": {},
   "source": [
    "### Month and age"
   ]
  },
  {
   "cell_type": "code",
   "execution_count": null,
   "metadata": {},
   "outputs": [],
   "source": [
    "(alt.Chart(df, width=800, title='Age vs Month, Counts').mark_bar(width=100)\n",
    " .encode(\n",
    "     alt.X('month(Timestamp):O', title=''),\n",
    "     y=alt.Y('count(Clicked on Ad):Q', title='', axis=alt.Axis(labels=False)),\n",
    "     color=alt.Color('Age', \n",
    "                         scale=alt.Scale(scheme='viridis', reverse=True),\n",
    "                         bin=alt.Bin(maxbins=10))\n",
    " ).configure_axis(labelAngle=0, labelFontSize=20)).configure_title(fontSize=20)\n",
    "\n"
   ]
  },
  {
   "cell_type": "markdown",
   "metadata": {},
   "source": [
    "## Topic Modeling\n",
    "\n"
   ]
  },
  {
   "cell_type": "code",
   "execution_count": null,
   "metadata": {},
   "outputs": [],
   "source": [
    "divs = []\n",
    "for i,topic in enumerate(nmf_components):\n",
    "\n",
    "    num_ads = len(df[df['Topic']==i+1])\n",
    "    top_5 = [feature_names[i] for i in topic.argsort()[-5:]]  \n",
    "    top = ''.join([f'<li>{word}</li>' for word in  top_5])\n",
    "    top = '<ul>' + top + '</ul>'\n",
    "    markdown = f'''<div style=\"width: 33%; float: left;\"> \n",
    "    \n",
    "<h3>Topic #{i+1}</h4>\n",
    "<h4>Number of Ads in Topic: {num_ads}</h4>\n",
    "<br>\n",
    "Top 5 Words:\n",
    "{top}\n",
    "\n",
    "</div>\n",
    "''' \n",
    "    \n",
    "    divs.append(markdown)\n",
    "    \n",
    "div_text = ''.join(divs)\n",
    "display(Markdown(div_text))"
   ]
  },
  {
   "cell_type": "code",
   "execution_count": null,
   "metadata": {
    "scrolled": true
   },
   "outputs": [],
   "source": [
    "base = (alt.Chart(df, width=400).mark_bar()\n",
    " .encode(\n",
    "     x=alt.X('Topic:N', axis=alt.Axis(labelAngle=0,\n",
    "                                        labelFontSize=16,\n",
    "                                        titleFontSize=20,\n",
    "                                        labelColor='gray',\n",
    "                                        titleColor='gray')),\n",
    "     y=alt.Y('mean(Clicked on Ad)', axis=alt.Axis(labels=False, title='')))\n",
    " \n",
    " .properties(title='No clear difference between topics and click rates'))\n",
    "\n",
    "\n",
    "bars = base.encode(color=alt.Color('Topic:N', \n",
    "                         scale=alt.Scale(scheme='viridis', reverse=True)))\n",
    "\n",
    "text = base.mark_text(\n",
    "    align='center',\n",
    "    baseline='middle',\n",
    "    dy=20,\n",
    "    color='white',\n",
    "    size=24\n",
    ").encode(\n",
    "    text=alt.Text('mean(Clicked on Ad):O', format=('.2f'))\n",
    ")\n",
    "\n",
    "topic_age = (alt.Chart(df[df['Clicked on Ad']==True], width=400).mark_bar()\n",
    " .encode(\n",
    "     x=alt.X('Age:Q', bin=True, axis=alt.Axis(labelAngle=0,\n",
    "                                        labelFontSize=16,\n",
    "                                        titleFontSize=20,\n",
    "                                        labelColor='gray',\n",
    "                                        titleColor='gray')),\n",
    "     y=alt.Y('count()', axis=alt.Axis(labels=False, title='')),\n",
    "     color=alt.Color('Topic:N', \n",
    "                         scale=alt.Scale(scheme='viridis', reverse=True)))\n",
    " \n",
    " .properties(title='Count of Ad Clicks by Topic and Age'))\n",
    "\n",
    "\n",
    "((bars + text ) | topic_age).configure_title(fontSize=20)"
   ]
  },
  {
   "cell_type": "code",
   "execution_count": null,
   "metadata": {},
   "outputs": [],
   "source": []
  }
 ],
 "metadata": {
  "kernelspec": {
   "display_name": "Python 3",
   "language": "python",
   "name": "python3"
  },
  "language_info": {
   "codemirror_mode": {
    "name": "ipython",
    "version": 3
   },
   "file_extension": ".py",
   "mimetype": "text/x-python",
   "name": "python",
   "nbconvert_exporter": "python",
   "pygments_lexer": "ipython3",
   "version": "3.8.6"
  }
 },
 "nbformat": 4,
 "nbformat_minor": 4
}
