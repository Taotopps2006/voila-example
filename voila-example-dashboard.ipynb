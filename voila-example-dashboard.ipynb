{
 "cells": [
  {
   "cell_type": "code",
   "execution_count": null,
   "metadata": {},
   "outputs": [],
   "source": [
    "import pandas as pd\n",
    "import altair as alt"
   ]
  },
  {
   "cell_type": "code",
   "execution_count": null,
   "metadata": {},
   "outputs": [],
   "source": [
    "%matplotlib inline\n",
    "\n",
    "# produce vector inline graphics\n",
    "from IPython.display import set_matplotlib_formats, display, Markdown, HTML\n",
    "\n",
    "from sklearn.feature_extraction.text import CountVectorizer, TfidfVectorizer\n",
    "from sklearn.decomposition import NMF\n",
    "\n",
    "set_matplotlib_formats('pdf', 'svg')\n",
    "\n",
    "import matplotlib.pyplot as plt\n",
    "plt.rcParams['figure.figsize'] = [10, 4]\n"
   ]
  },
  {
   "cell_type": "markdown",
   "metadata": {},
   "source": [
    "# Ad Click Dashboard"
   ]
  },
  {
   "cell_type": "code",
   "execution_count": null,
   "metadata": {},
   "outputs": [],
   "source": [
    "df = pd.read_csv('https://raw.githubusercontent.com/shubham13p/Ad-Click-Prediction/master/advertising.csv')\n",
    "df['Click_labeled'] = df['Clicked on Ad'].apply(lambda x: \"Click\" if x == 1 else \"No Click\")\n",
    "df.head()"
   ]
  },
  {
   "cell_type": "markdown",
   "metadata": {},
   "source": [
    "## Density plots\n",
    "\n",
    "Let's just take a look at the *density plots* of a few of these columns. These are like histograms, but smoothed. \n",
    "\n",
    "This gives us a quick view on distributions within our data. We see the following:\n",
    "\n",
    "* Most users seem to be around 30 years old, but we have a pretty broad distribution overall .\n",
    "* We see two \"peaks\" (or modes) in the daily usage features. This might mean we have two meaningful and distinct usage patterns.\n",
    "* We'll be interested in age and usage as we continue our investigation of click rates."
   ]
  },
  {
   "cell_type": "code",
   "execution_count": null,
   "metadata": {},
   "outputs": [],
   "source": [
    "cols = ['Age', 'Area Income', 'Daily Internet Usage', 'Daily Time Spent on Site']\n",
    "\n",
    "fig, axs = plt.subplots(2, 2)\n",
    "for ix, col in enumerate(cols):\n",
    "    row = ix // 2\n",
    "    column =  ix % 2\n",
    "    \n",
    "    plt.tight_layout()\n",
    "    \n",
    "    ax = axs[row][column]\n",
    "    \n",
    "    \n",
    "    df[[col]].plot.kde(title=col, \n",
    "                       legend=False, \n",
    "                       color='black',\n",
    "                       ax = ax,\n",
    "                       linewidth=1)\n",
    "    \n",
    "    ax.set_xlim(df[col].min(), df[col].max())\n",
    "    ax.set_ylim(0)\n",
    "    \n",
    "    # Get the two lines from the axes to generate shading\n",
    "    l1 = ax.lines[0]\n",
    "\n",
    "    # Get the xy data from the lines so that we can shade\n",
    "    x1 = l1.get_xydata()[:,0]\n",
    "    y1 = l1.get_xydata()[:,1]\n",
    "    ax.fill_between(x1,y1, color=\"blue\", alpha=0.1)"
   ]
  },
  {
   "cell_type": "markdown",
   "metadata": {},
   "source": [
    "## Age, time on site, click rate\n",
    "\n",
    "\n",
    "Key takeaways: \n",
    "* Most users are around 30 years old, but older users have the highest click rate.\n",
    "* Users who spend over 60 minutes on the site have a sharp decrease in click rate.\n",
    "* Users who spend over 70 minutes on the site are much more likely to be young."
   ]
  },
  {
   "cell_type": "code",
   "execution_count": null,
   "metadata": {},
   "outputs": [],
   "source": [
    "brush = alt.selection_interval(encodings=['x'], empty='all')\n",
    "brush2 = alt.selection_interval(encodings=['x'], empty='all')\n",
    "\n",
    "domain = ['No Click', 'Click']\n",
    "range_ = ['lightgray', 'orange']\n",
    "\n",
    "bars1 = alt.Chart(df).mark_bar().encode(\n",
    "    x=alt.X('Daily Time Spent on Site:Q', bin=True),\n",
    "    color='Click_labeled:N',\n",
    "    y='count(Click_labeled):N'\n",
    ").add_selection(\n",
    "    brush\n",
    ").transform_filter(\n",
    "    brush2\n",
    ").properties(\n",
    "    title='Less time = More Clicks'\n",
    ")\n",
    "\n",
    "bars = alt.Chart(df).mark_bar().encode(\n",
    "    x=alt.X('Age:Q', scale=alt.Scale(domain=(10, 65))),\n",
    "    color=alt.Color('Click_labeled:N', scale=alt.Scale(domain=domain, range=range_)),\n",
    "    y=alt.Y('count(Click_labeled):N', scale=alt.Scale(domain=(0, 62))),\n",
    ").transform_filter(\n",
    "    brush\n",
    ").add_selection(\n",
    "    brush2\n",
    ").properties(\n",
    "    title='Older = higher click rate'\n",
    ")\n",
    "\n",
    "(bars | bars1).configure_title(\n",
    "    fontSize=20,\n",
    "    anchor='start'\n",
    ")"
   ]
  },
  {
   "cell_type": "markdown",
   "metadata": {},
   "source": [
    "### Another view on Age vs time on site\n"
   ]
  },
  {
   "cell_type": "code",
   "execution_count": null,
   "metadata": {},
   "outputs": [],
   "source": [
    "bars = (alt.Chart(df).mark_bar()\n",
    " .encode(\n",
    "     x=alt.X('Daily Time Spent on Site', bin=alt.Bin(maxbins=14)),\n",
    "     y=alt.Y('count(Daily Time Spent on Site)', title=''),\n",
    "     color=alt.Color('Age', \n",
    "                     scale=alt.Scale(scheme='viridis', reverse=True),\n",
    "                     bin=alt.Bin(maxbins=10)))\n",
    " \n",
    " .properties(title='Over 70 minutes on site = younger users')\n",
    ")\n",
    "\n",
    "\n",
    "bars "
   ]
  },
  {
   "cell_type": "markdown",
   "metadata": {},
   "source": [
    "### Temporal effects"
   ]
  },
  {
   "cell_type": "code",
   "execution_count": null,
   "metadata": {},
   "outputs": [],
   "source": [
    "bars = (alt.Chart(df, width=800, title='Click rate by month').mark_bar(width=100)\n",
    " .encode(\n",
    "     alt.X('month(Timestamp):O', title='Hour of Day'),\n",
    "     y=alt.Y('mean(Clicked on Ad):Q', title='', axis=alt.Axis(labels=False))\n",
    " ))\n",
    "text = bars.mark_text(\n",
    "    align='center',\n",
    "    baseline='middle',\n",
    "    dy=20,\n",
    "    color='white',\n",
    "    size=20\n",
    ").encode(\n",
    "    text=alt.Text('mean(Clicked on Ad):O', format=('.2f'))\n",
    ")\n",
    "\n",
    "(bars + text).configure_axis(labelAngle=0, labelFontSize=20)"
   ]
  },
  {
   "cell_type": "markdown",
   "metadata": {},
   "source": [
    "### Month and age"
   ]
  },
  {
   "cell_type": "code",
   "execution_count": null,
   "metadata": {},
   "outputs": [],
   "source": [
    "(alt.Chart(df, width=800, title='Age vs Month, Counts').mark_bar(width=100)\n",
    " .encode(\n",
    "     alt.X('month(Timestamp):O', title=''),\n",
    "     y=alt.Y('count(Clicked on Ad):Q', title='', axis=alt.Axis(labels=False)),\n",
    "     color=alt.Color('Age', \n",
    "                         scale=alt.Scale(scheme='viridis', reverse=True),\n",
    "                         bin=alt.Bin(maxbins=10))\n",
    " ).configure_axis(labelAngle=0, labelFontSize=20))\n",
    "\n"
   ]
  },
  {
   "cell_type": "markdown",
   "metadata": {},
   "source": [
    "## Topic Modeling\n",
    "\n"
   ]
  },
  {
   "cell_type": "code",
   "execution_count": null,
   "metadata": {},
   "outputs": [],
   "source": [
    "tfidf_vect = TfidfVectorizer(max_df=0.9, min_df=10, stop_words='english')\n",
    "doc_term_matrix = tfidf_vect.fit_transform(df['Ad Topic Line'].values.astype('U'))"
   ]
  },
  {
   "cell_type": "code",
   "execution_count": null,
   "metadata": {},
   "outputs": [],
   "source": [
    "nmf = NMF(n_components=3, random_state=42)\n",
    "nmf.fit(doc_term_matrix )\n",
    "\n",
    "topic_values = nmf.transform(doc_term_matrix)\n",
    "df['Topic'] = topic_values.argmax(axis=1)"
   ]
  },
  {
   "cell_type": "code",
   "execution_count": null,
   "metadata": {},
   "outputs": [],
   "source": [
    "for i,topic in enumerate(nmf.components_):\n",
    "    \n",
    "    display(Markdown(f'### Topic #{i}'))\n",
    "    \n",
    "    num_ads = len(df[df['Topic']==i])\n",
    "    display(Markdown(f'**Number of Ads in Topic:** {num_ads}'))\n",
    "\n",
    "    display(Markdown(f'**Top 5 words:**'))\n",
    "    \n",
    "    top = ''.join([f'* {word} \\n' for word in[tfidf_vect.get_feature_names()[i] for i in topic.argsort()[-5:]]])\n",
    "    display(Markdown(top))\n"
   ]
  },
  {
   "cell_type": "markdown",
   "metadata": {},
   "source": [
    "### Topics and click rate"
   ]
  },
  {
   "cell_type": "code",
   "execution_count": null,
   "metadata": {
    "scrolled": true
   },
   "outputs": [],
   "source": [
    "base = (alt.Chart(df, width=400).mark_bar()\n",
    " .encode(\n",
    "     x=alt.X('Topic:N', axis=alt.Axis(labelAngle=0,\n",
    "                                        labelFontSize=16,\n",
    "                                        titleFontSize=20,\n",
    "                                        labelColor='gray',\n",
    "                                        titleColor='gray')),\n",
    "     y=alt.Y('mean(Clicked on Ad)', axis=alt.Axis(labels=False, title='')))\n",
    " \n",
    " .properties(title='No clear difference between topics and click rates'))\n",
    "\n",
    "\n",
    "bars = base.encode(color=alt.Color('Topic:N', \n",
    "                         scale=alt.Scale(scheme='viridis', reverse=True)))\n",
    "\n",
    "text = base.mark_text(\n",
    "    align='center',\n",
    "    baseline='middle',\n",
    "    dy=20,\n",
    "    color='white',\n",
    "    size=24\n",
    ").encode(\n",
    "    text=alt.Text('mean(Clicked on Ad):O', format=('.2f'))\n",
    ")\n",
    "\n",
    "topic_age = (alt.Chart(df[df['Clicked on Ad']==True], width=400).mark_bar()\n",
    " .encode(\n",
    "     x=alt.X('Age:Q', bin=True, axis=alt.Axis(labelAngle=0,\n",
    "                                        labelFontSize=16,\n",
    "                                        titleFontSize=20,\n",
    "                                        labelColor='gray',\n",
    "                                        titleColor='gray')),\n",
    "     y=alt.Y('count()', axis=alt.Axis(labels=False, title='')),\n",
    "     color=alt.Color('Topic:N', \n",
    "                         scale=alt.Scale(scheme='viridis', reverse=True)))\n",
    " \n",
    " .properties(title='Count of Ad Clicks by Topic and Age'))\n",
    "\n",
    "\n",
    "\n",
    "(bars + text ) | topic_age"
   ]
  },
  {
   "cell_type": "code",
   "execution_count": null,
   "metadata": {},
   "outputs": [],
   "source": []
  }
 ],
 "metadata": {
  "kernelspec": {
   "display_name": "Python 3",
   "language": "python",
   "name": "python3"
  },
  "language_info": {
   "codemirror_mode": {
    "name": "ipython",
    "version": 3
   },
   "file_extension": ".py",
   "mimetype": "text/x-python",
   "name": "python",
   "nbconvert_exporter": "python",
   "pygments_lexer": "ipython3",
   "version": "3.8.6"
  }
 },
 "nbformat": 4,
 "nbformat_minor": 4
}
